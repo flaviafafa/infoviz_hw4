{
 "cells": [
  {
   "cell_type": "code",
   "execution_count": 1,
   "id": "b0e578b1",
   "metadata": {},
   "outputs": [],
   "source": [
    "import numpy as np\n",
    "import pandas as pd"
   ]
  },
  {
   "cell_type": "code",
   "execution_count": 2,
   "id": "f3058557",
   "metadata": {},
   "outputs": [
    {
     "data": {
      "text/plain": [
       "(2557, 13)"
      ]
     },
     "execution_count": 2,
     "metadata": {},
     "output_type": "execute_result"
    }
   ],
   "source": [
    "dat = pd.read_csv(\"palmtrees.csv\", encoding='latin1').iloc[:, :13]\n",
    "dat.shape"
   ]
  },
  {
   "cell_type": "code",
   "execution_count": 3,
   "id": "13353637",
   "metadata": {},
   "outputs": [
    {
     "data": {
      "text/plain": [
       "spec_name              0\n",
       "acc_genus              0\n",
       "acc_species            0\n",
       "palm_tribe             0\n",
       "palm_subfamily         0\n",
       "climbing               0\n",
       "acaulescent            0\n",
       "erect                  0\n",
       "stem_solitary        375\n",
       "stem_armed            55\n",
       "leaves_armed         120\n",
       "max_stem_height_m    446\n",
       "max_stem_dia_cm      602\n",
       "dtype: int64"
      ]
     },
     "execution_count": 3,
     "metadata": {},
     "output_type": "execute_result"
    }
   ],
   "source": [
    "dat.isna().sum()"
   ]
  },
  {
   "cell_type": "code",
   "execution_count": 4,
   "id": "e563dcae",
   "metadata": {},
   "outputs": [
    {
     "name": "stdout",
     "output_type": "stream",
     "text": [
      "palm_subfamily\n",
      "Arecoideae       1375\n",
      "Calamoideae       631\n",
      "Coryphoideae      504\n",
      "Ceroxyloideae      46\n",
      "Nypoideae           1\n",
      "Name: count, dtype: int64\n"
     ]
    },
    {
     "data": {
      "text/plain": [
       "(2556, 13)"
      ]
     },
     "execution_count": 4,
     "metadata": {},
     "output_type": "execute_result"
    }
   ],
   "source": [
    "print(dat[\"palm_subfamily\"].value_counts())\n",
    "# delete the row corresponding to Nypoideae\n",
    "dat = dat[dat[\"palm_subfamily\"] != \"Nypoideae\"]\n",
    "dat.shape"
   ]
  },
  {
   "cell_type": "code",
   "execution_count": 5,
   "id": "65c6d5d3",
   "metadata": {},
   "outputs": [
    {
     "name": "stdout",
     "output_type": "stream",
     "text": [
      "spec_name            2556\n",
      "acc_genus             184\n",
      "acc_species          1976\n",
      "palm_tribe             28\n",
      "palm_subfamily          4\n",
      "climbing                3\n",
      "acaulescent             3\n",
      "erect                   3\n",
      "stem_solitary           3\n",
      "stem_armed              2\n",
      "leaves_armed            2\n",
      "max_stem_height_m     103\n",
      "max_stem_dia_cm       114\n",
      "dtype: int64\n"
     ]
    }
   ],
   "source": [
    "print(dat.nunique())"
   ]
  },
  {
   "cell_type": "code",
   "execution_count": 6,
   "id": "ceecee36",
   "metadata": {},
   "outputs": [],
   "source": [
    "dat.to_json(\"palmtrees_cleaned.json\", orient=\"records\", indent=4)"
   ]
  }
 ],
 "metadata": {
  "kernelspec": {
   "display_name": "Python 3 (ipykernel)",
   "language": "python",
   "name": "python3"
  },
  "language_info": {
   "codemirror_mode": {
    "name": "ipython",
    "version": 3
   },
   "file_extension": ".py",
   "mimetype": "text/x-python",
   "name": "python",
   "nbconvert_exporter": "python",
   "pygments_lexer": "ipython3",
   "version": "3.11.1"
  }
 },
 "nbformat": 4,
 "nbformat_minor": 5
}
